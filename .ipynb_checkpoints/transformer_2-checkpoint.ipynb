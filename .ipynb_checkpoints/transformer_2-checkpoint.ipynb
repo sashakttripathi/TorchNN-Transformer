{
 "cells": [
  {
   "cell_type": "code",
   "execution_count": 1,
   "id": "f632bcc9-550d-4369-906a-81bb7e7fdaec",
   "metadata": {},
   "outputs": [],
   "source": [
    "import math\n",
    "import os\n",
    "from tempfile import TemporaryDirectory\n",
    "from typing import Tuple"
   ]
  },
  {
   "cell_type": "code",
   "execution_count": 2,
   "id": "dfb57fae-d95c-4ea0-ae05-11759dd4c70e",
   "metadata": {},
   "outputs": [],
   "source": [
    "import torch\n",
    "from torch import nn, Tensor\n",
    "from torch.nn import TransformerEncoder, TransformerEncoderLayer\n",
    "from torch.utils.data import dataset"
   ]
  },
  {
   "cell_type": "code",
   "execution_count": 3,
   "id": "10c62bbe-cebc-475d-8625-aacf10d901fd",
   "metadata": {},
   "outputs": [],
   "source": [
    "# torch.set_default_device('cuda') # sets the default device for everytensor and model to GPU"
   ]
  },
  {
   "cell_type": "code",
   "execution_count": 4,
   "id": "9a33cca9-a4ce-4e99-ae75-7f87d7fb0500",
   "metadata": {},
   "outputs": [],
   "source": [
    "class TransformerModel(nn.Module):\n",
    "    # ntokens represents the size of the vocabulary\n",
    "    def __init__(self, ntoken, d_model, nhead, d_hid, nlayers, dropout = 0.5):\n",
    "        super().__init__()\n",
    "        self.model_type = 'Transformer'\n",
    "        self.pos_encoder = PositionalEncoding(d_model, dropout)\n",
    "        encoder_layer = TransformerEncoderLayer(d_model, nhead, d_hid, dropout)\n",
    "        self.transformer_encoder = TransformerEncoder(encoder_layer, nlayers)\n",
    "        self.embedding = nn.Embedding(ntoken, d_model)\n",
    "        self.d_model = d_model\n",
    "        # the final layer will produce the probability distribution over all possible values hence will use ntoken\n",
    "        self.linear = nn.Linear(d_model, ntoken)\n",
    "        \n",
    "        self.init_weights()\n",
    "        \n",
    "    def init_weights(self):\n",
    "        init_range = 0.1\n",
    "        self.embedding.weight.data.uniform_(-init_range, init_range)\n",
    "        self.linear.bias.data.zero_()\n",
    "        self.linear.weight.data.uniform_(-init_range, init_range)\n",
    "        \n",
    "    def forward(self, src, src_mask=None):\n",
    "        src = self.embedding(src) * math.sqrt(self.d_model)\n",
    "        src = self.pos_encoder(src)\n",
    "        output = self.transformer_encoder(src, src_mask)\n",
    "        output = self.linear(output)\n",
    "        return output"
   ]
  },
  {
   "cell_type": "code",
   "execution_count": 5,
   "id": "74d74b7b-5bc9-4e16-938c-e7e1c136d5b1",
   "metadata": {},
   "outputs": [],
   "source": [
    "class PositionalEncoding(nn.Module):\n",
    "    \n",
    "    def __init__(self, d_model, dropout =  0.1, max_len = 5000):\n",
    "        super().__init__()\n",
    "        self.dropout = nn.Dropout(dropout)\n",
    "        \n",
    "        position = torch.arange(max_len).unsqueeze(1)\n",
    "        denm = torch.exp(torch.arange(0, d_model, 2) * -math.log(10000)/d_model)\n",
    "        \n",
    "        # positional encoding is applied within the ordering of the feature dimension\n",
    "        pe = torch.zeros(max_len, 1, d_model)\n",
    "        pe[:, 0, 0::2] = torch.sin(position * denm)\n",
    "        pe[:, 0, 1::2] = torch.cos(position * denm)\n",
    "        \n",
    "        self.register_buffer('pe', pe)\n",
    "        \n",
    "    def forward(self, x):\n",
    "        x = x + self.pe[:x.size(0)]\n",
    "        return self.dropout(x)"
   ]
  },
  {
   "cell_type": "code",
   "execution_count": 6,
   "id": "f3797c20-89ee-4f79-b561-a5bfff83b602",
   "metadata": {},
   "outputs": [
    {
     "name": "stdout",
     "output_type": "stream",
     "text": [
      "Requirement already satisfied: portalocker in /root/miniconda3/envs/torchnn/lib/python3.10/site-packages (2.3.0)\n",
      "\u001b[33mWARNING: Running pip as the 'root' user can result in broken permissions and conflicting behaviour with the system package manager. It is recommended to use a virtual environment instead: https://pip.pypa.io/warnings/venv\u001b[0m\u001b[33m\n",
      "\u001b[0mRequirement already satisfied: torchdata in /root/miniconda3/envs/torchnn/lib/python3.10/site-packages (0.6.1)\n",
      "Requirement already satisfied: urllib3>=1.25 in /root/miniconda3/envs/torchnn/lib/python3.10/site-packages (from torchdata) (1.26.16)\n",
      "Requirement already satisfied: requests in /root/miniconda3/envs/torchnn/lib/python3.10/site-packages (from torchdata) (2.31.0)\n",
      "Requirement already satisfied: torch==2.0.1 in /root/miniconda3/envs/torchnn/lib/python3.10/site-packages (from torchdata) (2.0.1)\n",
      "Requirement already satisfied: filelock in /root/miniconda3/envs/torchnn/lib/python3.10/site-packages (from torch==2.0.1->torchdata) (3.9.0)\n",
      "Requirement already satisfied: typing-extensions in /root/miniconda3/envs/torchnn/lib/python3.10/site-packages (from torch==2.0.1->torchdata) (4.7.1)\n",
      "Requirement already satisfied: sympy in /root/miniconda3/envs/torchnn/lib/python3.10/site-packages (from torch==2.0.1->torchdata) (1.11.1)\n",
      "Requirement already satisfied: networkx in /root/miniconda3/envs/torchnn/lib/python3.10/site-packages (from torch==2.0.1->torchdata) (3.1)\n",
      "Requirement already satisfied: jinja2 in /root/miniconda3/envs/torchnn/lib/python3.10/site-packages (from torch==2.0.1->torchdata) (3.1.2)\n",
      "Requirement already satisfied: nvidia-cuda-nvrtc-cu11==11.7.99 in /root/miniconda3/envs/torchnn/lib/python3.10/site-packages (from torch==2.0.1->torchdata) (11.7.99)\n",
      "Requirement already satisfied: nvidia-cuda-runtime-cu11==11.7.99 in /root/miniconda3/envs/torchnn/lib/python3.10/site-packages (from torch==2.0.1->torchdata) (11.7.99)\n",
      "Requirement already satisfied: nvidia-cuda-cupti-cu11==11.7.101 in /root/miniconda3/envs/torchnn/lib/python3.10/site-packages (from torch==2.0.1->torchdata) (11.7.101)\n",
      "Requirement already satisfied: nvidia-cudnn-cu11==8.5.0.96 in /root/miniconda3/envs/torchnn/lib/python3.10/site-packages (from torch==2.0.1->torchdata) (8.5.0.96)\n",
      "Requirement already satisfied: nvidia-cublas-cu11==11.10.3.66 in /root/miniconda3/envs/torchnn/lib/python3.10/site-packages (from torch==2.0.1->torchdata) (11.10.3.66)\n",
      "Requirement already satisfied: nvidia-cufft-cu11==10.9.0.58 in /root/miniconda3/envs/torchnn/lib/python3.10/site-packages (from torch==2.0.1->torchdata) (10.9.0.58)\n",
      "Requirement already satisfied: nvidia-curand-cu11==10.2.10.91 in /root/miniconda3/envs/torchnn/lib/python3.10/site-packages (from torch==2.0.1->torchdata) (10.2.10.91)\n",
      "Requirement already satisfied: nvidia-cusolver-cu11==11.4.0.1 in /root/miniconda3/envs/torchnn/lib/python3.10/site-packages (from torch==2.0.1->torchdata) (11.4.0.1)\n",
      "Requirement already satisfied: nvidia-cusparse-cu11==11.7.4.91 in /root/miniconda3/envs/torchnn/lib/python3.10/site-packages (from torch==2.0.1->torchdata) (11.7.4.91)\n",
      "Requirement already satisfied: nvidia-nccl-cu11==2.14.3 in /root/miniconda3/envs/torchnn/lib/python3.10/site-packages (from torch==2.0.1->torchdata) (2.14.3)\n",
      "Requirement already satisfied: nvidia-nvtx-cu11==11.7.91 in /root/miniconda3/envs/torchnn/lib/python3.10/site-packages (from torch==2.0.1->torchdata) (11.7.91)\n",
      "Requirement already satisfied: triton==2.0.0 in /root/miniconda3/envs/torchnn/lib/python3.10/site-packages (from torch==2.0.1->torchdata) (2.0.0)\n",
      "Requirement already satisfied: setuptools in /root/miniconda3/envs/torchnn/lib/python3.10/site-packages (from nvidia-cublas-cu11==11.10.3.66->torch==2.0.1->torchdata) (68.0.0)\n",
      "Requirement already satisfied: wheel in /root/miniconda3/envs/torchnn/lib/python3.10/site-packages (from nvidia-cublas-cu11==11.10.3.66->torch==2.0.1->torchdata) (0.38.4)\n",
      "Requirement already satisfied: cmake in /root/miniconda3/envs/torchnn/lib/python3.10/site-packages (from triton==2.0.0->torch==2.0.1->torchdata) (3.27.0)\n",
      "Requirement already satisfied: lit in /root/miniconda3/envs/torchnn/lib/python3.10/site-packages (from triton==2.0.0->torch==2.0.1->torchdata) (16.0.6)\n",
      "Requirement already satisfied: charset-normalizer<4,>=2 in /root/miniconda3/envs/torchnn/lib/python3.10/site-packages (from requests->torchdata) (2.0.4)\n",
      "Requirement already satisfied: idna<4,>=2.5 in /root/miniconda3/envs/torchnn/lib/python3.10/site-packages (from requests->torchdata) (3.4)\n",
      "Requirement already satisfied: certifi>=2017.4.17 in /root/miniconda3/envs/torchnn/lib/python3.10/site-packages (from requests->torchdata) (2023.7.22)\n",
      "Requirement already satisfied: MarkupSafe>=2.0 in /root/miniconda3/envs/torchnn/lib/python3.10/site-packages (from jinja2->torch==2.0.1->torchdata) (2.1.1)\n",
      "Requirement already satisfied: mpmath>=0.19 in /root/miniconda3/envs/torchnn/lib/python3.10/site-packages/mpmath-1.2.1-py3.10.egg (from sympy->torch==2.0.1->torchdata) (1.2.1)\n",
      "\u001b[33mWARNING: Running pip as the 'root' user can result in broken permissions and conflicting behaviour with the system package manager. It is recommended to use a virtual environment instead: https://pip.pypa.io/warnings/venv\u001b[0m\u001b[33m\n",
      "\u001b[0m"
     ]
    }
   ],
   "source": [
    "# loading and batching data\n",
    "!pip install portalocker\n",
    "!pip install torchdata"
   ]
  },
  {
   "cell_type": "code",
   "execution_count": 7,
   "id": "9d62a720-52bb-44ce-bfae-13fa42a7d316",
   "metadata": {},
   "outputs": [],
   "source": [
    "from torchtext.datasets import WikiText2\n",
    "from torchtext.data.utils import get_tokenizer\n",
    "from torchtext.vocab import build_vocab_from_iterator\n",
    "\n",
    "train_iter = WikiText2(split='train')\n",
    "tokenizer = get_tokenizer('basic_english')\n",
    "vocab = build_vocab_from_iterator(map(tokenizer, train_iter), specials=['<unk>'])\n",
    "vocab.set_default_index(vocab['<unk>'])\n",
    "\n",
    "def data_process(raw_text_iter):\n",
    "    \n",
    "    data = [torch.tensor(vocab(tokenizer(item)), dtype=torch.long) for item in raw_text_iter]\n",
    "    # filters out the tensors which are non-zero, makes a tuple of all of them, then \n",
    "    # concatenates the elements of the tuple\n",
    "    return torch.cat(tuple(filter(lambda t: t.numel() > 0, data)))\n",
    "\n",
    "train_iter, val_iter, test_iter = WikiText2()\n",
    "train_data = data_process(train_iter)\n",
    "val_data = data_process(val_iter)\n",
    "test_data = data_process(test_iter)\n",
    "\n",
    "# batch the single sequence data into multiple sequences sequences of size bsz for cleaner processing\n",
    "\n",
    "def batchify(data, bsz):\n",
    "    seq_len = data.size(0) // bsz\n",
    "    data = data[:seq_len * bsz]\n",
    "    data = data.view(bsz, seq_len).contiguous()\n",
    "    return data\n",
    "\n",
    "\n",
    "batch_size = 20\n",
    "eval_size = 10\n",
    "\n",
    "train_data = batchify(train_data, batch_size)\n",
    "val_data = batchify(val_data, eval_size)\n",
    "test_data = batchify(test_data, eval_size)"
   ]
  },
  {
   "cell_type": "code",
   "execution_count": 8,
   "id": "d16f4b87-93b4-4152-b16f-eb6fe811a12a",
   "metadata": {},
   "outputs": [],
   "source": [
    "# the model learns from sequences of length we feed to the model and will be able \n",
    "# to generate inferences accordingly\n",
    "\n",
    "# say if the model is trained to learn from sequences of length 30 then it will be \n",
    "# able to learn the pattern for next word through those 30 last words. This value is \n",
    "# represented through bptt parameter"
   ]
  },
  {
   "cell_type": "code",
   "execution_count": 9,
   "id": "c862f502-80af-43c3-9efd-dfe76ef8d235",
   "metadata": {},
   "outputs": [],
   "source": [
    "bptt = 35"
   ]
  },
  {
   "cell_type": "code",
   "execution_count": 10,
   "id": "bccd9840-aa4b-4e2c-9f80-666f3ba4331d",
   "metadata": {},
   "outputs": [],
   "source": [
    "# returns the input, target pairs for the transformer to train on\n",
    "# the target is nothing but the right shifted input. basically each word position  \n",
    "# has to learn to predict the next word that will come there given the current word.\n",
    "def get_batch(source, i):\n",
    "    sequence_length = min(bptt, len(source) -1 -i) # so that the index of the last \n",
    "    # token does not excede the sequence length\n",
    "    data = source[i:i+sequence_length]\n",
    "    target = source[i+1:i+sequence_length+1]\n",
    "    \n",
    "    return data, target"
   ]
  },
  {
   "cell_type": "code",
   "execution_count": 11,
   "id": "b2534138-68bc-492e-9cef-ac2dabfc3cf3",
   "metadata": {},
   "outputs": [],
   "source": [
    "ntokens = len(vocab)\n",
    "emsize = 200\n",
    "d_hid = 200\n",
    "nlayers = 2\n",
    "nhead = 2\n",
    "dropout = 0.2\n",
    "model = TransformerModel(d_model=emsize, ntoken=ntokens, nhead=nhead, d_hid=d_hid, nlayers=nlayers, dropout=dropout)"
   ]
  },
  {
   "cell_type": "code",
   "execution_count": 12,
   "id": "d6a038fe-988a-4eee-97f1-74b104b7eafd",
   "metadata": {},
   "outputs": [],
   "source": [
    "import time\n",
    "\n",
    "criterion = nn.CrossEntropyLoss()\n",
    "lr = 5.0\n",
    "optimizer = torch.optim.SGD(model.parameters(), lr=lr)\n",
    "scheduler = torch.optim.lr_scheduler.StepLR(optimizer, 1.0, gamma = 0.95)\n",
    "\n",
    "def train(model):\n",
    "    model.train()\n",
    "    total_loss = 0\n",
    "    log_interval = 200\n",
    "    start_time = time.time()\n",
    "    \n",
    "    num_batches = len(train_data) // bptt\n",
    "    \n",
    "    for batch, i in enumerate(range(0, train_data.size(0) - 1, bptt)):\n",
    "        data, targets = get_batch(train_data, i)\n",
    "        output = model(data)\n",
    "        output_flat = output.view(-1, ntokens)\n",
    "        loss = criterion(output_flat, targets)\n",
    "        \n",
    "        optimizer.zero_grad()\n",
    "        loss.backward()\n",
    "        torch.utils.clip_grad_norm_(model.parameters(), 0.5)\n",
    "        optimizer.step()\n",
    "        \n",
    "        total_loss += loss.item()\n",
    "        if batch % log_interval == 0 and batch > 0:\n",
    "            lr = scheduler.get_last_lr()[0]\n",
    "            ms_per_batch = (time.time() - start_time) * 1000 / log_interval\n",
    "            cur_loss = total_loss / log_interval\n",
    "            ppl = math.exp(cur_loss)\n",
    "            print(f\"| batch {batch} / num_batches {num_batches} | lr : {lr} | ms/batch {ms_per_batch} | loss : {cur_loss} | ppl : {ppl}\")\n",
    "            total_loss = 0\n",
    "            start_time = time.time()\n",
    "    \n",
    "def evaluate(model, eval_data):\n",
    "    model.eval()\n",
    "    total_loss = 0\n",
    "    with torch.no_grad():\n",
    "        for i in range(0, eval_data.size(0) - 1, bptt):\n",
    "            data, targets = get_batch(eval_data, i)\n",
    "            sequence_length = data.size(0)\n",
    "            output = model(data)\n",
    "            \n",
    "            output_flat = output.view(-1, ntokens)\n",
    "            loss = criterion(output_flat, targets)\n",
    "            \n",
    "            total_loss += loss\n",
    "        \n",
    "    return total_loss / (eval_data.size(0) - 1)\n",
    "\n",
    "            "
   ]
  },
  {
   "cell_type": "code",
   "execution_count": 1,
   "id": "0e6348b8-1453-4296-82e3-8039a770be8d",
   "metadata": {},
   "outputs": [
    {
     "ename": "NameError",
     "evalue": "name 'TemporaryDirectory' is not defined",
     "output_type": "error",
     "traceback": [
      "\u001b[0;31m---------------------------------------------------------------------------\u001b[0m",
      "\u001b[0;31mNameError\u001b[0m                                 Traceback (most recent call last)",
      "Cell \u001b[0;32mIn[1], line 4\u001b[0m\n\u001b[1;32m      1\u001b[0m best_val_loss \u001b[38;5;241m=\u001b[39m \u001b[38;5;241m100\u001b[39m\n\u001b[1;32m      2\u001b[0m epochs \u001b[38;5;241m=\u001b[39m \u001b[38;5;241m3\u001b[39m\n\u001b[0;32m----> 4\u001b[0m \u001b[38;5;28;01mwith\u001b[39;00m \u001b[43mTemporaryDirectory\u001b[49m() \u001b[38;5;28;01mas\u001b[39;00m tempdir:\n\u001b[1;32m      5\u001b[0m     best_model_path \u001b[38;5;241m=\u001b[39m os\u001b[38;5;241m.\u001b[39mpath\u001b[38;5;241m.\u001b[39mjoin(tempdir, \u001b[38;5;124m\"\u001b[39m\u001b[38;5;124mbest_model_params.pt\u001b[39m\u001b[38;5;124m\"\u001b[39m)\n\u001b[1;32m      7\u001b[0m     \u001b[38;5;28;01mfor\u001b[39;00m epoch \u001b[38;5;129;01min\u001b[39;00m \u001b[38;5;28mrange\u001b[39m(\u001b[38;5;241m1\u001b[39m, epochs\u001b[38;5;241m+\u001b[39m\u001b[38;5;241m1\u001b[39m):\n",
      "\u001b[0;31mNameError\u001b[0m: name 'TemporaryDirectory' is not defined"
     ]
    }
   ],
   "source": [
    "best_val_loss = 100\n",
    "epochs = 3\n",
    "\n",
    "with TemporaryDirectory() as tempdir:\n",
    "    best_model_path = os.path.join(tempdir, \"best_model_params.pt\")\n",
    "    \n",
    "    for epoch in range(1, epochs+1):\n",
    "        epoch_start_time = time.time()\n",
    "        train(model)\n",
    "        val_loss = evaluate(model, val_data)\n",
    "        val_ppl = math.exp(val_loss)\n",
    "        elapsed = time.time() - epoch_start_time\n",
    "        print(\"-\" * 90)\n",
    "        print(f\"End of the epoch {epoch} | time : {time} | valid loss : {val_loss} | ppl : {val_ppl}\")\n",
    "        print(\"-\" * 90)\n",
    "        \n",
    "        if val_loss < best_val_loss:\n",
    "            best_val_loss = val_loss\n",
    "            torch.save(model.state.dict(), best_model_path)\n",
    "            \n",
    "        scheduler.step()\n",
    "    model.load_state_dict(torch.load(best_model_path))"
   ]
  },
  {
   "cell_type": "code",
   "execution_count": null,
   "id": "f6e82822-50a3-49c6-a580-4c8f30a0814b",
   "metadata": {},
   "outputs": [],
   "source": []
  },
  {
   "cell_type": "code",
   "execution_count": null,
   "id": "b8c69bc2-f5a0-4a4c-ae07-b5300e3a04d9",
   "metadata": {},
   "outputs": [],
   "source": []
  }
 ],
 "metadata": {
  "kernelspec": {
   "display_name": "Python 3 (ipykernel)",
   "language": "python",
   "name": "python3"
  },
  "language_info": {
   "codemirror_mode": {
    "name": "ipython",
    "version": 3
   },
   "file_extension": ".py",
   "mimetype": "text/x-python",
   "name": "python",
   "nbconvert_exporter": "python",
   "pygments_lexer": "ipython3",
   "version": "3.10.12"
  }
 },
 "nbformat": 4,
 "nbformat_minor": 5
}
